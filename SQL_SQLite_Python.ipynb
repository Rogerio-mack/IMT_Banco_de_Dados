{
  "nbformat": 4,
  "nbformat_minor": 0,
  "metadata": {
    "colab": {
      "provenance": [],
      "authorship_tag": "ABX9TyM1BhlICjbK0ROg2kQRtLAL",
      "include_colab_link": true
    },
    "kernelspec": {
      "name": "python3",
      "display_name": "Python 3"
    },
    "language_info": {
      "name": "python"
    }
  },
  "cells": [
    {
      "cell_type": "markdown",
      "metadata": {
        "id": "view-in-github",
        "colab_type": "text"
      },
      "source": [
        "<a href=\"https://colab.research.google.com/github/Rogerio-mack/IMT_Banco_de_Dados/blob/main/SQL_SQLite_Python.ipynb\" target=\"_parent\"><img src=\"https://colab.research.google.com/assets/colab-badge.svg\" alt=\"Open In Colab\"/></a>"
      ]
    },
    {
      "cell_type": "markdown",
      "source": [
        "# 1. Instale o SQLite\n",
        "Geralmente está pré-instalado no Colab, mas...\n",
        "\n",
        "```\n",
        "!pip install sqlite3\n",
        "```"
      ],
      "metadata": {
        "id": "yH31j8QDDBV0"
      }
    },
    {
      "cell_type": "markdown",
      "source": [
        "# 2. Conecte o banco, crie e popule tabelas"
      ],
      "metadata": {
        "id": "ZGZ5-gcMDYCN"
      }
    },
    {
      "cell_type": "code",
      "source": [
        "!rm mydatabase.db"
      ],
      "metadata": {
        "id": "Eq7nCsaYNjs2"
      },
      "execution_count": 1,
      "outputs": []
    },
    {
      "cell_type": "code",
      "source": [
        "import sqlite3\n",
        "\n",
        "# Connect to the SQLite database (create the database file if it doesn't exist)\n",
        "conn = sqlite3.connect('mydatabase.db')"
      ],
      "metadata": {
        "id": "wSsmVYktE9SN"
      },
      "execution_count": 2,
      "outputs": []
    },
    {
      "cell_type": "code",
      "source": [
        "!ls"
      ],
      "metadata": {
        "colab": {
          "base_uri": "https://localhost:8080/"
        },
        "id": "m9OKj98zE-qN",
        "outputId": "f55b304f-8e27-474f-c6a7-952fb5ded759"
      },
      "execution_count": 3,
      "outputs": [
        {
          "output_type": "stream",
          "name": "stdout",
          "text": [
            "mydatabase.db  sample_data\n"
          ]
        }
      ]
    },
    {
      "cell_type": "code",
      "source": [
        "# Create a table\n",
        "conn.execute('''\n",
        "    CREATE TABLE IF NOT EXISTS employees (\n",
        "        id INTEGER PRIMARY KEY,\n",
        "        name TEXT NOT NULL,\n",
        "        department TEXT,\n",
        "        salary REAL\n",
        "    )\n",
        "''')\n",
        "\n",
        "# Insert data\n",
        "conn.execute(\"INSERT INTO employees (name, department, salary) VALUES ('Arthur Del Rio', 'Sales', 50000.0)\")\n",
        "conn.execute(\"INSERT INTO employees (name, department, salary) VALUES ('Gabriel Lippi', 'Marketing', 60000.0)\")\n",
        "conn.execute(\"INSERT INTO employees (name, department, salary) VALUES ('Sofia Bueno', 'IT', 75000.0)\")\n",
        "conn.execute(\"INSERT INTO employees (name, department, salary) VALUES ('Otavio Souza', 'IT', 65000.0)\")\n",
        "\n",
        "# Commit the changes\n",
        "conn.commit()"
      ],
      "metadata": {
        "id": "X5ifA0skDWx1"
      },
      "execution_count": 4,
      "outputs": []
    },
    {
      "cell_type": "markdown",
      "source": [
        "# Single Query, *sem cursor*"
      ],
      "metadata": {
        "id": "bdFsoGJuEfGt"
      }
    },
    {
      "cell_type": "code",
      "source": [
        "print(\"\\nSimple query without cursor:\")\n",
        "for row in conn.execute(\"SELECT * FROM employees WHERE department = 'IT'\"):\n",
        "    print(row)"
      ],
      "metadata": {
        "colab": {
          "base_uri": "https://localhost:8080/"
        },
        "id": "l45qOXKOEoZ3",
        "outputId": "bde0d79b-9eee-4855-ad45-ac437cd0238f"
      },
      "execution_count": 5,
      "outputs": [
        {
          "output_type": "stream",
          "name": "stdout",
          "text": [
            "\n",
            "Simple query without cursor:\n",
            "(3, 'Sofia Bueno', 'IT', 75000.0)\n",
            "(4, 'Otavio Souza', 'IT', 65000.0)\n"
          ]
        }
      ]
    },
    {
      "cell_type": "code",
      "source": [
        "temp = conn.execute(\"SELECT * FROM employees WHERE department = 'IT'\")\n",
        "temp.fetchall()"
      ],
      "metadata": {
        "colab": {
          "base_uri": "https://localhost:8080/"
        },
        "id": "ivpMPj0KFVN9",
        "outputId": "947830e8-c1e1-4891-a744-79df74a2b39f"
      },
      "execution_count": 6,
      "outputs": [
        {
          "output_type": "execute_result",
          "data": {
            "text/plain": [
              "[(3, 'Sofia Bueno', 'IT', 75000.0), (4, 'Otavio Souza', 'IT', 65000.0)]"
            ]
          },
          "metadata": {},
          "execution_count": 6
        }
      ]
    },
    {
      "cell_type": "markdown",
      "source": [
        "# Single Query, *com cursor*"
      ],
      "metadata": {
        "id": "NAfTA1LuFSio"
      }
    },
    {
      "cell_type": "code",
      "source": [
        "print(\"\\nQuery employing a cursor:\")\n",
        "# Create a cursor object to execute SQL commands\n",
        "cursor = conn.cursor()\n",
        "\n",
        "# Query employing a cursor\n",
        "cursor.execute(\"SELECT * FROM employees WHERE salary > 55000.0\")\n",
        "results = cursor.fetchall()  # Fetch all results\n",
        "\n",
        "for row in results:\n",
        "    print(row)"
      ],
      "metadata": {
        "colab": {
          "base_uri": "https://localhost:8080/"
        },
        "id": "itXk_onEFnFT",
        "outputId": "8d976a85-85a2-41ee-b40b-b7a6ffe23463"
      },
      "execution_count": 7,
      "outputs": [
        {
          "output_type": "stream",
          "name": "stdout",
          "text": [
            "\n",
            "Query employing a cursor:\n",
            "(2, 'Gabriel Lippi', 'Marketing', 60000.0)\n",
            "(3, 'Sofia Bueno', 'IT', 75000.0)\n",
            "(4, 'Otavio Souza', 'IT', 65000.0)\n"
          ]
        }
      ]
    },
    {
      "cell_type": "markdown",
      "source": [
        "## Working with data\n",
        "Por exemplo, empregando o dado no Pandas."
      ],
      "metadata": {
        "id": "zmfeG7dfId39"
      }
    },
    {
      "cell_type": "code",
      "source": [
        "import pandas as pd\n",
        "\n",
        "df = pd.DataFrame(results)\n",
        "df.columns = ['id', 'name', 'department', 'salary']\n",
        "df\n"
      ],
      "metadata": {
        "colab": {
          "base_uri": "https://localhost:8080/",
          "height": 143
        },
        "id": "Tcp82H20Hxcl",
        "outputId": "19f1d7ee-d253-4d1c-d3bc-0341273488da"
      },
      "execution_count": 8,
      "outputs": [
        {
          "output_type": "execute_result",
          "data": {
            "text/plain": [
              "   id           name department   salary\n",
              "0   2  Gabriel Lippi  Marketing  60000.0\n",
              "1   3    Sofia Bueno         IT  75000.0\n",
              "2   4   Otavio Souza         IT  65000.0"
            ],
            "text/html": [
              "\n",
              "  <div id=\"df-97f92f38-84df-4188-b65a-a8c6d2ecc0c7\" class=\"colab-df-container\">\n",
              "    <div>\n",
              "<style scoped>\n",
              "    .dataframe tbody tr th:only-of-type {\n",
              "        vertical-align: middle;\n",
              "    }\n",
              "\n",
              "    .dataframe tbody tr th {\n",
              "        vertical-align: top;\n",
              "    }\n",
              "\n",
              "    .dataframe thead th {\n",
              "        text-align: right;\n",
              "    }\n",
              "</style>\n",
              "<table border=\"1\" class=\"dataframe\">\n",
              "  <thead>\n",
              "    <tr style=\"text-align: right;\">\n",
              "      <th></th>\n",
              "      <th>id</th>\n",
              "      <th>name</th>\n",
              "      <th>department</th>\n",
              "      <th>salary</th>\n",
              "    </tr>\n",
              "  </thead>\n",
              "  <tbody>\n",
              "    <tr>\n",
              "      <th>0</th>\n",
              "      <td>2</td>\n",
              "      <td>Gabriel Lippi</td>\n",
              "      <td>Marketing</td>\n",
              "      <td>60000.0</td>\n",
              "    </tr>\n",
              "    <tr>\n",
              "      <th>1</th>\n",
              "      <td>3</td>\n",
              "      <td>Sofia Bueno</td>\n",
              "      <td>IT</td>\n",
              "      <td>75000.0</td>\n",
              "    </tr>\n",
              "    <tr>\n",
              "      <th>2</th>\n",
              "      <td>4</td>\n",
              "      <td>Otavio Souza</td>\n",
              "      <td>IT</td>\n",
              "      <td>65000.0</td>\n",
              "    </tr>\n",
              "  </tbody>\n",
              "</table>\n",
              "</div>\n",
              "    <div class=\"colab-df-buttons\">\n",
              "\n",
              "  <div class=\"colab-df-container\">\n",
              "    <button class=\"colab-df-convert\" onclick=\"convertToInteractive('df-97f92f38-84df-4188-b65a-a8c6d2ecc0c7')\"\n",
              "            title=\"Convert this dataframe to an interactive table.\"\n",
              "            style=\"display:none;\">\n",
              "\n",
              "  <svg xmlns=\"http://www.w3.org/2000/svg\" height=\"24px\" viewBox=\"0 -960 960 960\">\n",
              "    <path d=\"M120-120v-720h720v720H120Zm60-500h600v-160H180v160Zm220 220h160v-160H400v160Zm0 220h160v-160H400v160ZM180-400h160v-160H180v160Zm440 0h160v-160H620v160ZM180-180h160v-160H180v160Zm440 0h160v-160H620v160Z\"/>\n",
              "  </svg>\n",
              "    </button>\n",
              "\n",
              "  <style>\n",
              "    .colab-df-container {\n",
              "      display:flex;\n",
              "      gap: 12px;\n",
              "    }\n",
              "\n",
              "    .colab-df-convert {\n",
              "      background-color: #E8F0FE;\n",
              "      border: none;\n",
              "      border-radius: 50%;\n",
              "      cursor: pointer;\n",
              "      display: none;\n",
              "      fill: #1967D2;\n",
              "      height: 32px;\n",
              "      padding: 0 0 0 0;\n",
              "      width: 32px;\n",
              "    }\n",
              "\n",
              "    .colab-df-convert:hover {\n",
              "      background-color: #E2EBFA;\n",
              "      box-shadow: 0px 1px 2px rgba(60, 64, 67, 0.3), 0px 1px 3px 1px rgba(60, 64, 67, 0.15);\n",
              "      fill: #174EA6;\n",
              "    }\n",
              "\n",
              "    .colab-df-buttons div {\n",
              "      margin-bottom: 4px;\n",
              "    }\n",
              "\n",
              "    [theme=dark] .colab-df-convert {\n",
              "      background-color: #3B4455;\n",
              "      fill: #D2E3FC;\n",
              "    }\n",
              "\n",
              "    [theme=dark] .colab-df-convert:hover {\n",
              "      background-color: #434B5C;\n",
              "      box-shadow: 0px 1px 3px 1px rgba(0, 0, 0, 0.15);\n",
              "      filter: drop-shadow(0px 1px 2px rgba(0, 0, 0, 0.3));\n",
              "      fill: #FFFFFF;\n",
              "    }\n",
              "  </style>\n",
              "\n",
              "    <script>\n",
              "      const buttonEl =\n",
              "        document.querySelector('#df-97f92f38-84df-4188-b65a-a8c6d2ecc0c7 button.colab-df-convert');\n",
              "      buttonEl.style.display =\n",
              "        google.colab.kernel.accessAllowed ? 'block' : 'none';\n",
              "\n",
              "      async function convertToInteractive(key) {\n",
              "        const element = document.querySelector('#df-97f92f38-84df-4188-b65a-a8c6d2ecc0c7');\n",
              "        const dataTable =\n",
              "          await google.colab.kernel.invokeFunction('convertToInteractive',\n",
              "                                                    [key], {});\n",
              "        if (!dataTable) return;\n",
              "\n",
              "        const docLinkHtml = 'Like what you see? Visit the ' +\n",
              "          '<a target=\"_blank\" href=https://colab.research.google.com/notebooks/data_table.ipynb>data table notebook</a>'\n",
              "          + ' to learn more about interactive tables.';\n",
              "        element.innerHTML = '';\n",
              "        dataTable['output_type'] = 'display_data';\n",
              "        await google.colab.output.renderOutput(dataTable, element);\n",
              "        const docLink = document.createElement('div');\n",
              "        docLink.innerHTML = docLinkHtml;\n",
              "        element.appendChild(docLink);\n",
              "      }\n",
              "    </script>\n",
              "  </div>\n",
              "\n",
              "\n",
              "    <div id=\"df-6327cbec-483f-43aa-91bc-4aa482894fb9\">\n",
              "      <button class=\"colab-df-quickchart\" onclick=\"quickchart('df-6327cbec-483f-43aa-91bc-4aa482894fb9')\"\n",
              "                title=\"Suggest charts\"\n",
              "                style=\"display:none;\">\n",
              "\n",
              "<svg xmlns=\"http://www.w3.org/2000/svg\" height=\"24px\"viewBox=\"0 0 24 24\"\n",
              "     width=\"24px\">\n",
              "    <g>\n",
              "        <path d=\"M19 3H5c-1.1 0-2 .9-2 2v14c0 1.1.9 2 2 2h14c1.1 0 2-.9 2-2V5c0-1.1-.9-2-2-2zM9 17H7v-7h2v7zm4 0h-2V7h2v10zm4 0h-2v-4h2v4z\"/>\n",
              "    </g>\n",
              "</svg>\n",
              "      </button>\n",
              "\n",
              "<style>\n",
              "  .colab-df-quickchart {\n",
              "      --bg-color: #E8F0FE;\n",
              "      --fill-color: #1967D2;\n",
              "      --hover-bg-color: #E2EBFA;\n",
              "      --hover-fill-color: #174EA6;\n",
              "      --disabled-fill-color: #AAA;\n",
              "      --disabled-bg-color: #DDD;\n",
              "  }\n",
              "\n",
              "  [theme=dark] .colab-df-quickchart {\n",
              "      --bg-color: #3B4455;\n",
              "      --fill-color: #D2E3FC;\n",
              "      --hover-bg-color: #434B5C;\n",
              "      --hover-fill-color: #FFFFFF;\n",
              "      --disabled-bg-color: #3B4455;\n",
              "      --disabled-fill-color: #666;\n",
              "  }\n",
              "\n",
              "  .colab-df-quickchart {\n",
              "    background-color: var(--bg-color);\n",
              "    border: none;\n",
              "    border-radius: 50%;\n",
              "    cursor: pointer;\n",
              "    display: none;\n",
              "    fill: var(--fill-color);\n",
              "    height: 32px;\n",
              "    padding: 0;\n",
              "    width: 32px;\n",
              "  }\n",
              "\n",
              "  .colab-df-quickchart:hover {\n",
              "    background-color: var(--hover-bg-color);\n",
              "    box-shadow: 0 1px 2px rgba(60, 64, 67, 0.3), 0 1px 3px 1px rgba(60, 64, 67, 0.15);\n",
              "    fill: var(--button-hover-fill-color);\n",
              "  }\n",
              "\n",
              "  .colab-df-quickchart-complete:disabled,\n",
              "  .colab-df-quickchart-complete:disabled:hover {\n",
              "    background-color: var(--disabled-bg-color);\n",
              "    fill: var(--disabled-fill-color);\n",
              "    box-shadow: none;\n",
              "  }\n",
              "\n",
              "  .colab-df-spinner {\n",
              "    border: 2px solid var(--fill-color);\n",
              "    border-color: transparent;\n",
              "    border-bottom-color: var(--fill-color);\n",
              "    animation:\n",
              "      spin 1s steps(1) infinite;\n",
              "  }\n",
              "\n",
              "  @keyframes spin {\n",
              "    0% {\n",
              "      border-color: transparent;\n",
              "      border-bottom-color: var(--fill-color);\n",
              "      border-left-color: var(--fill-color);\n",
              "    }\n",
              "    20% {\n",
              "      border-color: transparent;\n",
              "      border-left-color: var(--fill-color);\n",
              "      border-top-color: var(--fill-color);\n",
              "    }\n",
              "    30% {\n",
              "      border-color: transparent;\n",
              "      border-left-color: var(--fill-color);\n",
              "      border-top-color: var(--fill-color);\n",
              "      border-right-color: var(--fill-color);\n",
              "    }\n",
              "    40% {\n",
              "      border-color: transparent;\n",
              "      border-right-color: var(--fill-color);\n",
              "      border-top-color: var(--fill-color);\n",
              "    }\n",
              "    60% {\n",
              "      border-color: transparent;\n",
              "      border-right-color: var(--fill-color);\n",
              "    }\n",
              "    80% {\n",
              "      border-color: transparent;\n",
              "      border-right-color: var(--fill-color);\n",
              "      border-bottom-color: var(--fill-color);\n",
              "    }\n",
              "    90% {\n",
              "      border-color: transparent;\n",
              "      border-bottom-color: var(--fill-color);\n",
              "    }\n",
              "  }\n",
              "</style>\n",
              "\n",
              "      <script>\n",
              "        async function quickchart(key) {\n",
              "          const quickchartButtonEl =\n",
              "            document.querySelector('#' + key + ' button');\n",
              "          quickchartButtonEl.disabled = true;  // To prevent multiple clicks.\n",
              "          quickchartButtonEl.classList.add('colab-df-spinner');\n",
              "          try {\n",
              "            const charts = await google.colab.kernel.invokeFunction(\n",
              "                'suggestCharts', [key], {});\n",
              "          } catch (error) {\n",
              "            console.error('Error during call to suggestCharts:', error);\n",
              "          }\n",
              "          quickchartButtonEl.classList.remove('colab-df-spinner');\n",
              "          quickchartButtonEl.classList.add('colab-df-quickchart-complete');\n",
              "        }\n",
              "        (() => {\n",
              "          let quickchartButtonEl =\n",
              "            document.querySelector('#df-6327cbec-483f-43aa-91bc-4aa482894fb9 button');\n",
              "          quickchartButtonEl.style.display =\n",
              "            google.colab.kernel.accessAllowed ? 'block' : 'none';\n",
              "        })();\n",
              "      </script>\n",
              "    </div>\n",
              "\n",
              "  <div id=\"id_64b38b81-9b8d-41a8-acf7-a5e27d5d3f5b\">\n",
              "    <style>\n",
              "      .colab-df-generate {\n",
              "        background-color: #E8F0FE;\n",
              "        border: none;\n",
              "        border-radius: 50%;\n",
              "        cursor: pointer;\n",
              "        display: none;\n",
              "        fill: #1967D2;\n",
              "        height: 32px;\n",
              "        padding: 0 0 0 0;\n",
              "        width: 32px;\n",
              "      }\n",
              "\n",
              "      .colab-df-generate:hover {\n",
              "        background-color: #E2EBFA;\n",
              "        box-shadow: 0px 1px 2px rgba(60, 64, 67, 0.3), 0px 1px 3px 1px rgba(60, 64, 67, 0.15);\n",
              "        fill: #174EA6;\n",
              "      }\n",
              "\n",
              "      [theme=dark] .colab-df-generate {\n",
              "        background-color: #3B4455;\n",
              "        fill: #D2E3FC;\n",
              "      }\n",
              "\n",
              "      [theme=dark] .colab-df-generate:hover {\n",
              "        background-color: #434B5C;\n",
              "        box-shadow: 0px 1px 3px 1px rgba(0, 0, 0, 0.15);\n",
              "        filter: drop-shadow(0px 1px 2px rgba(0, 0, 0, 0.3));\n",
              "        fill: #FFFFFF;\n",
              "      }\n",
              "    </style>\n",
              "    <button class=\"colab-df-generate\" onclick=\"generateWithVariable('df')\"\n",
              "            title=\"Generate code using this dataframe.\"\n",
              "            style=\"display:none;\">\n",
              "\n",
              "  <svg xmlns=\"http://www.w3.org/2000/svg\" height=\"24px\"viewBox=\"0 0 24 24\"\n",
              "       width=\"24px\">\n",
              "    <path d=\"M7,19H8.4L18.45,9,17,7.55,7,17.6ZM5,21V16.75L18.45,3.32a2,2,0,0,1,2.83,0l1.4,1.43a1.91,1.91,0,0,1,.58,1.4,1.91,1.91,0,0,1-.58,1.4L9.25,21ZM18.45,9,17,7.55Zm-12,3A5.31,5.31,0,0,0,4.9,8.1,5.31,5.31,0,0,0,1,6.5,5.31,5.31,0,0,0,4.9,4.9,5.31,5.31,0,0,0,6.5,1,5.31,5.31,0,0,0,8.1,4.9,5.31,5.31,0,0,0,12,6.5,5.46,5.46,0,0,0,6.5,12Z\"/>\n",
              "  </svg>\n",
              "    </button>\n",
              "    <script>\n",
              "      (() => {\n",
              "      const buttonEl =\n",
              "        document.querySelector('#id_64b38b81-9b8d-41a8-acf7-a5e27d5d3f5b button.colab-df-generate');\n",
              "      buttonEl.style.display =\n",
              "        google.colab.kernel.accessAllowed ? 'block' : 'none';\n",
              "\n",
              "      buttonEl.onclick = () => {\n",
              "        google.colab.notebook.generateWithVariable('df');\n",
              "      }\n",
              "      })();\n",
              "    </script>\n",
              "  </div>\n",
              "\n",
              "    </div>\n",
              "  </div>\n"
            ],
            "application/vnd.google.colaboratory.intrinsic+json": {
              "type": "dataframe",
              "variable_name": "df",
              "summary": "{\n  \"name\": \"df\",\n  \"rows\": 3,\n  \"fields\": [\n    {\n      \"column\": \"id\",\n      \"properties\": {\n        \"dtype\": \"number\",\n        \"std\": 1,\n        \"min\": 2,\n        \"max\": 4,\n        \"num_unique_values\": 3,\n        \"samples\": [\n          2,\n          3,\n          4\n        ],\n        \"semantic_type\": \"\",\n        \"description\": \"\"\n      }\n    },\n    {\n      \"column\": \"name\",\n      \"properties\": {\n        \"dtype\": \"string\",\n        \"num_unique_values\": 3,\n        \"samples\": [\n          \"Gabriel Lippi\",\n          \"Sofia Bueno\",\n          \"Otavio Souza\"\n        ],\n        \"semantic_type\": \"\",\n        \"description\": \"\"\n      }\n    },\n    {\n      \"column\": \"department\",\n      \"properties\": {\n        \"dtype\": \"string\",\n        \"num_unique_values\": 2,\n        \"samples\": [\n          \"IT\",\n          \"Marketing\"\n        ],\n        \"semantic_type\": \"\",\n        \"description\": \"\"\n      }\n    },\n    {\n      \"column\": \"salary\",\n      \"properties\": {\n        \"dtype\": \"number\",\n        \"std\": 7637.626158259733,\n        \"min\": 60000.0,\n        \"max\": 75000.0,\n        \"num_unique_values\": 3,\n        \"samples\": [\n          60000.0,\n          75000.0\n        ],\n        \"semantic_type\": \"\",\n        \"description\": \"\"\n      }\n    }\n  ]\n}"
            }
          },
          "metadata": {},
          "execution_count": 8
        }
      ]
    },
    {
      "cell_type": "markdown",
      "source": [
        "# Connection $\\times$ Cursor"
      ],
      "metadata": {
        "id": "czcBfZ26G3jt"
      }
    },
    {
      "cell_type": "markdown",
      "source": [
        "| Feature              | `conn.execute()`                    | `cursor.execute()`                               |\n",
        "| -------------------- | ----------------------------------- | ------------------------------------------------ |\n",
        "| Cursor Management    | Implicit (created and closed)       | Explicit (you create and close)                  |\n",
        "| Multiple Statements  | Not ideal                           | Suitable for multiple statements using same cursor |\n",
        "| Result Fetching      | Iteration only                      | `fetchone()`, `fetchall()`, `fetchmany()`        |\n",
        "| Transactions         | Limited control, `commit()` required for INSERT/UPDATE/DELETE | Full transaction control (`commit()`, `rollback()`)          |\n",
        "| SQL Injection Protection | Not suitable (vulnerable if variables directly embedded)  | Essential for parameterized queries (prevents SQL injection)   |\n",
        "| Simplicity           | Simpler for basic queries          | More complex, but more powerful                |\n"
      ],
      "metadata": {
        "id": "RivSgKfSHH_V"
      }
    },
    {
      "cell_type": "code",
      "source": [
        "new_department = \"IT\"\n",
        "min_salary = 55000\n",
        "cursor = conn.cursor()\n",
        "cursor.execute(\"SELECT name, salary FROM employees WHERE department = ? AND salary > ?\", (new_department, min_salary)) # Use Tuple\n",
        "results = cursor.fetchall()\n",
        "for row in results:\n",
        "    print(row)\n",
        "conn.commit()\n",
        "cursor.close()"
      ],
      "metadata": {
        "colab": {
          "base_uri": "https://localhost:8080/"
        },
        "id": "gh5rAuCoG4BO",
        "outputId": "c12298ca-29bb-4475-a935-645dedcfbf4a"
      },
      "execution_count": 9,
      "outputs": [
        {
          "output_type": "stream",
          "name": "stdout",
          "text": [
            "('Sofia Bueno', 75000.0)\n",
            "('Otavio Souza', 65000.0)\n"
          ]
        }
      ]
    },
    {
      "cell_type": "code",
      "source": [
        "cursor.close()\n",
        "conn.close()"
      ],
      "metadata": {
        "id": "bdTkDNVDMxQe"
      },
      "execution_count": 10,
      "outputs": []
    },
    {
      "cell_type": "markdown",
      "source": [
        "## Exemplo de Update"
      ],
      "metadata": {
        "id": "uNwT-ADVI5uH"
      }
    },
    {
      "cell_type": "code",
      "source": [
        "conn = sqlite3.connect('mydatabase.db')\n",
        "cursor = conn.cursor()\n",
        "\n",
        "employee_name = input(\"Entre com o nome do funcionário: \")\n",
        "new_salary = int(input(\"Entre com o novo salário: \"))\n",
        "\n",
        "try:\n",
        "    # Execute the UPDATE statement with a parameterized query\n",
        "    cursor.execute(\"UPDATE employees SET salary = ? WHERE name = ?\", (new_salary, employee_name))\n",
        "\n",
        "    # Check if any rows were updated\n",
        "    if cursor.rowcount > 0:\n",
        "        print(f\"Salary updated successfully for {employee_name}.\")\n",
        "    else:\n",
        "        print(f\"No employee found with the name {employee_name}.\")\n",
        "\n",
        "    # Commit the changes\n",
        "    conn.commit()\n",
        "\n",
        "except sqlite3.Error as e:\n",
        "    print(f\"An error occurred: {e}\")\n",
        "    conn.rollback()  # Rollback in case of error\n",
        "\n",
        "finally:\n",
        "    cursor.close()\n",
        "    conn.close()\n",
        "\n",
        "conn = sqlite3.connect('mydatabase.db')\n",
        "\n",
        "for row in conn.execute(\"SELECT * FROM employees WHERE name = '\" + employee_name + \"'\"):\n",
        "    print(row)"
      ],
      "metadata": {
        "colab": {
          "base_uri": "https://localhost:8080/"
        },
        "id": "24boqxfnI8pu",
        "outputId": "b27d7c89-823f-4619-9c4e-be270d3bea8b"
      },
      "execution_count": 32,
      "outputs": [
        {
          "output_type": "stream",
          "name": "stdout",
          "text": [
            "Entre com o nome do funcionário: Gabriel Lippi\n",
            "Entre com o novo salário: 1000000\n",
            "Salary updated successfully for Gabriel Lippi.\n",
            "(2, 'Gabriel Lippi', 'Marketing', 1000000.0)\n"
          ]
        }
      ]
    },
    {
      "cell_type": "markdown",
      "source": [
        "### Atenção:"
      ],
      "metadata": {
        "id": "v314VtW-LS3s"
      }
    },
    {
      "cell_type": "code",
      "source": [
        "\"SELECT * FROM employees WHERE name = \" + employee_name"
      ],
      "metadata": {
        "colab": {
          "base_uri": "https://localhost:8080/",
          "height": 36
        },
        "id": "f5g317HqLFte",
        "outputId": "856fa9da-ea5d-4ae7-b79c-cb22b975f223"
      },
      "execution_count": 33,
      "outputs": [
        {
          "output_type": "execute_result",
          "data": {
            "text/plain": [
              "'SELECT * FROM employees WHERE name = Gabriel Lippi'"
            ],
            "application/vnd.google.colaboratory.intrinsic+json": {
              "type": "string"
            }
          },
          "metadata": {},
          "execution_count": 33
        }
      ]
    },
    {
      "cell_type": "code",
      "source": [
        "\"SELECT * FROM employees WHERE name = '\" + employee_name + \"'\""
      ],
      "metadata": {
        "colab": {
          "base_uri": "https://localhost:8080/",
          "height": 36
        },
        "id": "hM6a2aioLRN2",
        "outputId": "3807f992-7f31-4f98-9b95-8c9a51e85951"
      },
      "execution_count": 34,
      "outputs": [
        {
          "output_type": "execute_result",
          "data": {
            "text/plain": [
              "\"SELECT * FROM employees WHERE name = 'Gabriel Lippi'\""
            ],
            "application/vnd.google.colaboratory.intrinsic+json": {
              "type": "string"
            }
          },
          "metadata": {},
          "execution_count": 34
        }
      ]
    },
    {
      "cell_type": "markdown",
      "source": [
        "# Close connection, boa prática\n",
        "\n",
        "Libera os recursos do programa (memória, cursores etc.) e do banco de dados (transações pendentes, memória, cursores etc.)."
      ],
      "metadata": {
        "id": "aVQAbCPzHUeO"
      }
    },
    {
      "cell_type": "code",
      "execution_count": 35,
      "metadata": {
        "id": "a0sXtFoaCUGm"
      },
      "outputs": [],
      "source": [
        "conn = sqlite3.connect('mydatabase.db')\n",
        "\n",
        "# Close the connection\n",
        "conn.close()\n"
      ]
    }
  ]
}