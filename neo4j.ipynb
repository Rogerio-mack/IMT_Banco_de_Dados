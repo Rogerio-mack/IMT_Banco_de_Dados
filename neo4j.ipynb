{
  "nbformat": 4,
  "nbformat_minor": 0,
  "metadata": {
    "colab": {
      "provenance": [],
      "authorship_tag": "ABX9TyNPikFFOoLXR2/jPR09LjEX",
      "include_colab_link": true
    },
    "kernelspec": {
      "name": "python3",
      "display_name": "Python 3"
    },
    "language_info": {
      "name": "python"
    }
  },
  "cells": [
    {
      "cell_type": "markdown",
      "metadata": {
        "id": "view-in-github",
        "colab_type": "text"
      },
      "source": [
        "<a href=\"https://colab.research.google.com/github/Rogerio-mack/IMT_Banco_de_Dados/blob/main/neo4j.ipynb\" target=\"_parent\"><img src=\"https://colab.research.google.com/assets/colab-badge.svg\" alt=\"Open In Colab\"/></a>"
      ]
    },
    {
      "cell_type": "code",
      "source": [
        "!pip install neo4j"
      ],
      "metadata": {
        "colab": {
          "base_uri": "https://localhost:8080/"
        },
        "id": "bPiYdUJQrjD1",
        "outputId": "6fa1b199-a73c-47bf-f53b-66322e5cb517"
      },
      "execution_count": null,
      "outputs": [
        {
          "output_type": "stream",
          "name": "stdout",
          "text": [
            "Collecting neo4j\n",
            "  Downloading neo4j-5.25.0-py3-none-any.whl.metadata (5.7 kB)\n",
            "Requirement already satisfied: pytz in /usr/local/lib/python3.10/dist-packages (from neo4j) (2024.2)\n",
            "Downloading neo4j-5.25.0-py3-none-any.whl (296 kB)\n",
            "\u001b[?25l   \u001b[90m━━━━━━━━━━━━━━━━━━━━━━━━━━━━━━━━━━━━━━━━\u001b[0m \u001b[32m0.0/296.6 kB\u001b[0m \u001b[31m?\u001b[0m eta \u001b[36m-:--:--\u001b[0m\r\u001b[2K   \u001b[91m━━━━━━━━━━━━━━━━━━━━━━━\u001b[0m\u001b[90m╺\u001b[0m\u001b[90m━━━━━━━━━━━━━━━━\u001b[0m \u001b[32m174.1/296.6 kB\u001b[0m \u001b[31m5.2 MB/s\u001b[0m eta \u001b[36m0:00:01\u001b[0m\r\u001b[2K   \u001b[90m━━━━━━━━━━━━━━━━━━━━━━━━━━━━━━━━━━━━━━━━\u001b[0m \u001b[32m296.6/296.6 kB\u001b[0m \u001b[31m5.0 MB/s\u001b[0m eta \u001b[36m0:00:00\u001b[0m\n",
            "\u001b[?25hInstalling collected packages: neo4j\n",
            "Successfully installed neo4j-5.25.0\n"
          ]
        }
      ]
    },
    {
      "cell_type": "code",
      "execution_count": null,
      "metadata": {
        "id": "11HNvo31rXoz"
      },
      "outputs": [],
      "source": [
        "from neo4j import GraphDatabase\n",
        "\n",
        "# URI examples: \"neo4j://localhost\", \"neo4j+s://xxx.databases.neo4j.io\"\n",
        "URI = \"neo4j+s://238b14eb.databases.neo4j.io\"\n",
        "AUTH = (\"<Username>\", \"<Password>\")\n",
        "AUTH = (\"neo4j\", \"fe48yWbHOaWaOcExG_88IeLnEDaKTRT4WLRm3wR2GEA\")\n",
        "\n",
        "with GraphDatabase.driver(URI, auth=AUTH) as driver:\n",
        "    driver.verify_connectivity()"
      ]
    },
    {
      "cell_type": "code",
      "source": [
        "driver = GraphDatabase.driver(URI, auth=AUTH)\n",
        "\n",
        "# Get the films\n",
        "records, summary, keys = driver.execute_query(\n",
        "    \"MATCH (n:Filme) RETURN n\",\n",
        "    database_=\"neo4j\"\n",
        ")\n",
        "\n",
        "# Loop through results and do something with them\n",
        "for filme in records:\n",
        "    print(filme)\n",
        "\n",
        "# Summary information\n",
        "print(\"The query `{query}` returned {records_count} records in {time} ms.\".format(\n",
        "    query=summary.query, records_count=len(records),\n",
        "    time=summary.result_available_after,\n",
        "))"
      ],
      "metadata": {
        "colab": {
          "base_uri": "https://localhost:8080/"
        },
        "id": "YDuHD7bss42o",
        "outputId": "68bacb87-a49f-4489-e093-43bb02dda995"
      },
      "execution_count": null,
      "outputs": [
        {
          "output_type": "stream",
          "name": "stdout",
          "text": [
            "<Record n=<Node element_id='4:b6590a98-c447-47fc-9227-6eabb9d78912:0' labels=frozenset({'Filme'}) properties={'ano_lançamento': 1977, 'genero': 'ficção', 'estudio': 'Lucas Films', 'nome': 'Star Wars'}>>\n",
            "<Record n=<Node element_id='4:b6590a98-c447-47fc-9227-6eabb9d78912:1' labels=frozenset({'Filme'}) properties={'ano_lançamento': 1972, 'genero': 'drama', 'estudio': 'Paramount', 'nome': 'O Poderoso Chefão I'}>>\n",
            "<Record n=<Node element_id='4:b6590a98-c447-47fc-9227-6eabb9d78912:2' labels=frozenset({'Filme'}) properties={'ano_lançamento': 1990, 'genero': 'drama', 'estudio': 'VideoFilmes', 'nome': 'Central do Brasil'}>>\n",
            "The query `MATCH (n:Filme) RETURN n` returned 3 records in 1 ms.\n"
          ]
        }
      ]
    }
  ]
}