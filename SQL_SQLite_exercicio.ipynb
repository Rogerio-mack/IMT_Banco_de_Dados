{
  "nbformat": 4,
  "nbformat_minor": 0,
  "metadata": {
    "colab": {
      "provenance": [],
      "toc_visible": true,
      "authorship_tag": "ABX9TyO4FNR8u1JWAnya4VRRP4hz",
      "include_colab_link": true
    },
    "kernelspec": {
      "name": "python3",
      "display_name": "Python 3"
    },
    "language_info": {
      "name": "python"
    }
  },
  "cells": [
    {
      "cell_type": "markdown",
      "metadata": {
        "id": "view-in-github",
        "colab_type": "text"
      },
      "source": [
        "<a href=\"https://colab.research.google.com/github/Rogerio-mack/IMT_Banco_de_Dados/blob/main/SQL_SQLite_exercicio.ipynb\" target=\"_parent\"><img src=\"https://colab.research.google.com/assets/colab-badge.svg\" alt=\"Open In Colab\"/></a>"
      ]
    },
    {
      "cell_type": "markdown",
      "source": [
        "# Ex1. Create Database\n",
        "\n",
        "Crie e popule o database de [Vendas](https://github.com/Rogerio-mack/IMT_Banco_de_Dados/blob/main/exercicios/vendas.sql) no SQLite.\n",
        "\n",
        "\n"
      ],
      "metadata": {
        "id": "14gaBwx8SoEI"
      }
    },
    {
      "cell_type": "markdown",
      "source": [
        "<img src=\"https://github.com/Rogerio-mack/IMT_Banco_de_Dados/blob/main/exercicios/vendas.png?raw=true\" width=500, align=\"right\">\n"
      ],
      "metadata": {
        "id": "wkFz_8tVUUx3"
      }
    },
    {
      "cell_type": "code",
      "execution_count": 2,
      "metadata": {
        "id": "CWXp2j9pSj4x"
      },
      "outputs": [],
      "source": [
        "import sqlite3\n",
        "\n",
        "# Connect to the database\n",
        "db_path = 'mydatabase.db'\n",
        "\n",
        "try:\n",
        "    conn = sqlite3.connect(db_path)\n",
        "    cursor = conn.cursor()\n",
        "\n",
        "    # Create the tables\n",
        "    cursor.execute('''\n",
        "        CREATE TABLE IF NOT EXISTS clientes (\n",
        "            id_cliente INT PRIMARY KEY,\n",
        "            nome VARCHAR(100) NOT NULL,\n",
        "            email VARCHAR(100) UNIQUE,\n",
        "            data_cadastro DATE,\n",
        "            cidade VARCHAR(50),\n",
        "            estado CHAR(2),\n",
        "            faixa_etaria VARCHAR(20),\n",
        "            status VARCHAR(20)\n",
        "        )\n",
        "    ''')\n",
        "\n",
        "   ...\n",
        "\n",
        "\n",
        "    # Populate the tables\n",
        "    cursor.execute(\"INSERT OR IGNORE INTO clientes VALUES (1, 'Maria Oliveira', 'maria@email.com', '2022-01-15', 'São Paulo', 'SP', '30-40', 'Ativo')\")\n",
        "    cursor.execute(\"INSERT OR IGNORE INTO clientes VALUES (2, 'João Silva', 'joao@email.com', '2022-02-20', 'Rio de Janeiro', 'RJ', '20-30', 'Ativo')\")\n",
        "\n",
        "   ...\n",
        "\n",
        "    conn.commit()\n",
        "\n",
        "except sqlite3.Error as e:\n",
        "    print(f\"An error occurred: {e}\")\n",
        "\n",
        "finally:\n",
        "    if conn:\n",
        "        cursor.close()\n",
        "        conn.close()\n"
      ]
    },
    {
      "cell_type": "markdown",
      "source": [
        "# Ex2. Join 1\n",
        "\n",
        "Liste o nome de todos os clientes que fizeram compras de produtos da categoria 'Eletrônicos'."
      ],
      "metadata": {
        "id": "KGosVqhDT3Tp"
      }
    },
    {
      "cell_type": "code",
      "source": [
        "import sqlite3\n",
        "\n",
        "# Connect to the database\n",
        "db_path = 'mydatabase.db'\n",
        "\n",
        "try:\n",
        "    conn = sqlite3.connect(db_path)\n",
        "    cursor = conn.cursor()\n",
        "\n",
        "    # sua solução\n",
        "    ...\n",
        "\n",
        "except sqlite3.Error as e:\n",
        "    print(f\"An error occurred: {e}\")\n",
        "\n",
        "finally:\n",
        "    if conn:\n",
        "        cursor.close()\n",
        "        conn.close()\n"
      ],
      "metadata": {
        "id": "H9VSGFkmTo0g"
      },
      "execution_count": null,
      "outputs": []
    },
    {
      "cell_type": "markdown",
      "source": [
        "# Ex3. Join 2\n",
        "\n",
        "Liste o total de vendas com forma_pagamento PIX de todos os clientes do estado 'SP'.\n",
        ""
      ],
      "metadata": {
        "id": "sR0rWPVXVDZc"
      }
    },
    {
      "cell_type": "code",
      "source": [
        "import sqlite3\n",
        "\n",
        "# Connect to the database\n",
        "db_path = 'mydatabase.db'\n",
        "\n",
        "try:\n",
        "    conn = sqlite3.connect(db_path)\n",
        "    cursor = conn.cursor()\n",
        "\n",
        "    # sua solução\n",
        "    ...\n",
        "\n",
        "except sqlite3.Error as e:\n",
        "    print(f\"An error occurred: {e}\")\n",
        "\n",
        "finally:\n",
        "    if conn:\n",
        "        cursor.close()\n",
        "        conn.close()\n"
      ],
      "metadata": {
        "id": "Wq-XljmQTvwy"
      },
      "execution_count": null,
      "outputs": []
    },
    {
      "cell_type": "markdown",
      "source": [
        "# Ex4. Join e Group By\n",
        "\n",
        "Liste o total de vendas por forma_pagamento somente de clientes do estado 'SP' cujo valor total tenha excedido 200."
      ],
      "metadata": {
        "id": "pp4iLndUVURX"
      }
    },
    {
      "cell_type": "code",
      "source": [
        "import sqlite3\n",
        "\n",
        "# Connect to the database\n",
        "db_path = 'mydatabase.db'\n",
        "\n",
        "try:\n",
        "    conn = sqlite3.connect(db_path)\n",
        "    cursor = conn.cursor()\n",
        "\n",
        "    # sua solução\n",
        "    ...\n",
        "\n",
        "except sqlite3.Error as e:\n",
        "    print(f\"An error occurred: {e}\")\n",
        "\n",
        "finally:\n",
        "    if conn:\n",
        "        cursor.close()\n",
        "        conn.close()\n",
        "\n"
      ],
      "metadata": {
        "id": "SFRUMWuQVURY"
      },
      "execution_count": null,
      "outputs": []
    }
  ]
}